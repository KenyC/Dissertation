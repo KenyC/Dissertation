{
  "cells": [
    {
      "cell_type": "markdown",
      "metadata": {},
      "source": [
        "Chapter 1\n",
        "====================================\n",
        "In this computation, I use \"a or b\" as a proxy for an existential with sub-domain alternatives.\n",
        "\n",
        "Some global preliminaries\n",
        "\n"
      ]
    },
    {
      "cell_type": "code",
      "metadata": {},
      "source": [
        "# Imports \n",
        "from exh           import *\n",
        "from exh.exts.gq   import *\n",
        "from exh.model     import options\n",
        "import exh.options as     options_alts\n",
        "\n",
        "options.dom_quant     = 6      # Setting a large-ish domain of quantification\n",
        "options.latex_display = False  # disabling LateX display ; you can enable if you're using Jupyter Notebook (as opposed to IPython) \n",
        "display = jprint if options.latex_display else print\n",
        "options_alts.scales   = [{Existential, Universal}, {Existential, Most}] # Remove \"or\"/\"and\" scale; we'll be using disjunction to model existentials without universal alternatives\n",
        "\n"
      ],
      "outputs": [],
      "execution_count": null
    },
    {
      "cell_type": "markdown",
      "metadata": {},
      "source": [
        "# Exhaustive participation inferences in non-cumulative sentences: recursive Exh <span id=\"noncumulative\"></span>\n",
        "*The dancers smiled*\n"
      ]
    },
    {
      "cell_type": "code",
      "metadata": {},
      "source": [
        "# Here, we model the dancers as a grand disjunction\n",
        "marielou = Pred(5, name = \"marielou\")\n",
        "pierre   = Pred(6, name = \"pierre\")\n",
        "rebecca  = Pred(7, name = \"rebecca\")\n",
        "wilfried = Pred(8, name = \"wilfried\")\n",
        "nazli    = Pred(9, name = \"nazli\")\n",
        "# dancers  = [marielou, pierre, rebecca, wilfried, nazli]\n",
        "\n",
        "prejacent = marielou | pierre | rebecca | wilfried | nazli\n",
        "universe = Universe(f = prejacent) # Universe objects contain all logical possibilities ; we can use them to check for equivalences\n",
        "sentence  = Exh(Exh(prejacent))\n",
        "print(\"Assumed sentence:\", sentence)\n",
        "print(\n",
        "\t\"Equivalent to universal/grand conjunction:\", \n",
        "\tuniverse.equivalent(sentence, marielou & pierre & rebecca & wilfried & nazli)\n",
        ")\n",
        "# Printing excluded alternatives\n",
        "sentence.diagnose(display)\n"
      ],
      "outputs": [],
      "execution_count": null
    },
    {
      "cell_type": "markdown",
      "metadata": {},
      "source": [
        "# Exhaustive participation inferences in non-cumulative sentences: innocent inclusion Exh <span id=\"noncumulative_ii\"></span>\n",
        "*The dancers smiled*\n"
      ]
    },
    {
      "cell_type": "code",
      "metadata": {},
      "source": [
        "prejacent = marielou | pierre | rebecca | wilfried | nazli\n",
        "universe = Universe(f = prejacent) # Universe objects contain all logical possibilities ; we can use them to check for equivalences\n",
        "sentence  = Exh(prejacent, ii = True)\n",
        "print(\"Assumed sentence:\", sentence)\n",
        "print(\n",
        "\t\"Equivalent to universal/grand conjunction:\", \n",
        "\tuniverse.equivalent(sentence, marielou & pierre & rebecca & wilfried & nazli)\n",
        ")\n",
        "# Printing excluded alternatives\n",
        "sentence.diagnose(display)\n"
      ],
      "outputs": [],
      "execution_count": null
    },
    {
      "cell_type": "markdown",
      "metadata": {},
      "source": [
        "# Cumulative reading of every <span id=\"cumulative_every\"></span>\n"
      ]
    },
    {
      "cell_type": "code",
      "metadata": {},
      "source": [
        "# setting a and b to depend on x (innocuous warnings appear)\n",
        "# here, we only use two disjuncts ; with a \"large\" domain of quantification (6 as set earlier), 3 disjuncts imply 200k logical possbilities\n",
        "a(\"x\")\n",
        "b(\"x\")\n",
        "universe = Universe(fs = [a, b])\n",
        "\n",
        "prejacent  = Ax > a | b\n",
        "sentence   = Exh(Exh(prejacent))\n",
        "\n",
        "print(\"Assumed LF:\", sentence)\n",
        "\n",
        "sentence.diagnose(display)\n",
        "print(\"Equivalent to cumulative reading:\", universe.equivalent(sentence, prejacent & (Ex > a) & (Ex > b)))\n"
      ],
      "outputs": [],
      "execution_count": null
    },
    {
      "cell_type": "markdown",
      "metadata": {},
      "source": [
        "# Cumulative reading of every: the innocent inclusion approach <span id=\"cumulative_every_ii\"></span>\n"
      ]
    },
    {
      "cell_type": "code",
      "metadata": {},
      "source": [
        "prejacent  = Ax > a | b\n",
        "sentence   = Exh(prejacent, ii = True)\n",
        "\n",
        "print(\"Assumed LF:\", sentence)\n",
        "\n",
        "sentence.diagnose(display)\n",
        "print(\"Equivalent to cumulative reading:          \", universe.equivalent(sentence, prejacent & (Ex > a) & (Ex > b)))\n",
        "print(\"Equivalent to doubly-distributive reading: \", universe.equivalent(sentence, (Ax > a) & (Ax > b)))\n"
      ],
      "outputs": [],
      "execution_count": null
    },
    {
      "cell_type": "markdown",
      "metadata": {},
      "source": [
        "# Cumulative reading of most <span id=\"cumulative_most\"></span>\n"
      ]
    },
    {
      "cell_type": "code",
      "metadata": {},
      "source": [
        "prejacent  = Mx > a | b\n",
        "first_exh  = Exh(prejacent)\n",
        "lf         = Exh(first_exh)\n",
        "\n",
        "print(\"Assumed LF:\", lf)\n",
        "\n",
        "lf.diagnose(display)\n",
        "print(\"Equivalent to cumulative reading:\", universe.equivalent(lf, prejacent & (Ex > a) & (Ex > b)))\n",
        "\n",
        "\n",
        "\n",
        "\n"
      ],
      "outputs": [],
      "execution_count": null
    },
    {
      "cell_type": "markdown",
      "metadata": {},
      "source": [
        "# Asymmetries in cumulative readings <span id=\"asymmetries\"></span>\n",
        "Non-cumulative reading of every.\n"
      ]
    },
    {
      "cell_type": "code",
      "metadata": {},
      "source": [
        "scales     = [{Existential, Universal}] # our \"disjunction\", which models the existential with subdomain alternates, should not have a conjunctive alternative\n",
        "lf         = Exh(Exh(Ax > Exh(Exh(a | b))))\n",
        "print(\"Assumed LF:\", lf)\n",
        "\n",
        "\n",
        "\n",
        "lf.diagnose(display)\n",
        "print(\"Equivalent to cumulative reading:\", universe.equivalent(lf, (Ax > a | b) & (Ex > a) & (Ex > b)))\n",
        "print(\"Equivalent to doubly-dist reading:\", universe.equivalent(lf, Ax > a & b))\n",
        "\n",
        "\n",
        "# %%"
      ],
      "outputs": [],
      "execution_count": null
    }
  ],
  "metadata": {
    "anaconda-cloud": {},
    "kernelspec": {
      "display_name": "Python 3",
      "language": "python",
      "name": "python3"
    },
    "language_info": {
      "codemirror_mode": {
        "name": "ipython",
        "version": 3
      },
      "file_extension": ".py",
      "mimetype": "text/x-python",
      "name": "python",
      "nbconvert_exporter": "python",
      "pygments_lexer": "ipython3",
      "version": "3.6.1"
    }
  },
  "nbformat": 4,
  "nbformat_minor": 4
}