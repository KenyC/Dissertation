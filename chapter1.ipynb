{
  "cells": [
    {
      "cell_type": "markdown",
      "metadata": {},
      "source": [
        "Chapter 1\n",
        "====================================\n",
        "In this computation, I use \"a or b\" as a proxy for an existential with sub-domain alternatives.\n",
        "\n",
        "Some global preliminaries\n",
        "\n"
      ]
    },
    {
      "cell_type": "code",
      "metadata": {},
      "source": [
        "# Imports \n",
        "from exh                  import *\n",
        "from exh.exts.gq          import *\n",
        "from exh.exts.subdomain   import *\n",
        "from exh.model     import options\n",
        "import exh.options as     options_alts\n",
        "\n",
        "options.dom_quant     = 4      # Setting a large-ish domain of quantification\n",
        "options.latex_display = False  # disabling LateX display ; you can enable if you're using Jupyter Notebook (as opposed to IPython) \n",
        "display = jprint if options.latex_display else print\n",
        "options_alts.scales = ListScales([\n",
        "\tSimpleScales([{Existential, Universal}, {Existential, Most}]),  # Remove \"or\"/\"and\" scale; we'll be using disjunction to model existentials without universal alternatives\n",
        "\tsub_scale # sub-domain alternatives\n",
        "])\n"
      ],
      "outputs": [],
      "execution_count": null
    },
    {
      "cell_type": "markdown",
      "metadata": {},
      "source": [
        "Defining predicates and quantifiers that match the name in the text:\n"
      ]
    },
    {
      "cell_type": "code",
      "metadata": {},
      "source": [
        "# Match names in text\n",
        "Anut  = A(\"nut\")\n",
        "Enut  = E(\"nut\")\n",
        "Esquirrel = Ec_(\"squirrel\", domain = D3) # An existential with subdomain alternatives over a domain of size 3\n",
        "Asquirrel = A(\"squirrel\", domain = D3)   # The corresponding universal for good measure\n",
        "cracked = Pred(name = \"cracked\", depends = [\"squirrel\", \"nut\"], domains = (D3, default_domain))\n",
        "# scrat = Pred(name = \"scrat\", depends = \"nut\")\n",
        "# acorn = Pred(name = \"acorn\", depends = \"nut\")\n",
        "# waggs = Pred(name = \"waggs\", depends = \"nut\")\n",
        "\n",
        "Aamb  = A(\"amb\")\n",
        "Eamb  = E(\"amb\")\n",
        "arabic   = Pred(name = \"arabic\",   depends = \"amb\")\n",
        "english  = Pred(name = \"english\",  depends = \"amb\")\n",
        "mandarin = Pred(name = \"mandarin\", depends = \"amb\")\n",
        "\n",
        "Edancer = Ec_(\"dancer\", domain = Domain(5)) \n",
        "Adancer = A(\"dancer\", domain = Domain(5))\n",
        "smiled  = Pred(name = \"smiled\", depends = \"dancer\", domains = [Domain(5)])\n"
      ],
      "outputs": [],
      "execution_count": null
    },
    {
      "cell_type": "markdown",
      "metadata": {},
      "source": [
        "<span id=\"noncumulative\"></span>\n",
        "# Exhaustive participation inferences in non-cumulative sentences: recursive Exh \n",
        "*The dancers smiled*\n"
      ]
    },
    {
      "cell_type": "code",
      "metadata": {},
      "source": [
        "prejacent = Edancer > smiled # there is a dancer that smiled\n",
        "universe = Universe(f = prejacent) # Universe objects contain all logical possibilities ; we can use them to check for equivalences\n",
        "sentence  = Exh(Exh(prejacent))\n",
        "# The combination of dots and circles on the quantifier represent the domain of the existential quantifier: dots are individuals outside the domain, circle individuals inside\n",
        "print(\"Assumed sentence:\", sentence)\n",
        "sentence.diagnose(display)\n",
        "print(\n",
        "\t\"Equivalent to universal:\", \n",
        "\tuniverse.equivalent(sentence, Adancer > smiled)\n",
        ")\n",
        "# Printing excluded alternatives\n"
      ],
      "outputs": [],
      "execution_count": null
    },
    {
      "cell_type": "markdown",
      "metadata": {},
      "source": [
        "<span id=\"noncumulative_ii\"></span>\n",
        "# Exhaustive participation inferences in non-cumulative sentences: innocent inclusion Exh \n",
        "*The dancers smiled*\n"
      ]
    },
    {
      "cell_type": "code",
      "metadata": {},
      "source": [
        "prejacent = Edancer > smiled # there is a dancer that smiled\n",
        "universe = Universe(f = prejacent) # Universe objects contain all logical possibilities ; we can use them to check for equivalences\n",
        "sentence  = Exh(prejacent, ii = True)\n",
        "print(\"Assumed sentence:\", sentence)\n",
        "sentence.diagnose(display)\n",
        "print(\n",
        "\t\"Equivalent to universal:\", \n",
        "\tuniverse.equivalent(sentence, Adancer > smiled)\n",
        ")\n",
        "# Printing excluded alternatives\n"
      ],
      "outputs": [],
      "execution_count": null
    },
    {
      "cell_type": "markdown",
      "metadata": {},
      "source": [
        "<span id=\"cumulative_every_naive\"></span>\n",
        "# Cumulative reading of every/distributive implicatures : non-recursive exhaustification\n",
        "*Every ambassador speaks Arabic, French or Mandarin*  \n",
        "*The three squirrels cracked every nut*\n",
        "\n",
        "Note how we perform the exhaustification, ignoring that \"every\" has \"some\" as an alternative. As pointed out by Chemla & Spector (2011), the \"some\" alternative block the distributive implicature, a testament to the inadequacy of the standard derivation.\n"
      ]
    },
    {
      "cell_type": "code",
      "metadata": {},
      "source": [
        "prejacent  = Aamb > arabic | english | mandarin\n",
        "universe   = Universe(f = prejacent)\n",
        "sentence   = Exh(prejacent, scales = []) # we must ignore the \"some/all\" scales. As p\n",
        "\n",
        "print(\"Assumed LF:\", sentence)\n",
        "\n",
        "sentence.diagnose(display)\n",
        "print(\n",
        "\t\"There is an ambassador that only speaks English:\", \n",
        "\tuniverse.entails(sentence, Eamb > english & ~arabic & ~mandarin)\n",
        ")\n",
        "\n",
        "dist = (Eamb > english) & (Eamb > arabic) & (Eamb > mandarin)\n",
        "print(\n",
        "\t\"Equivalent to reported distributive implicature:\", \n",
        "\tuniverse.equivalent(\n",
        "\t\tsentence, \n",
        "\t\tprejacent & dist\n",
        "\t)\n",
        ")\n"
      ],
      "outputs": [],
      "execution_count": null
    },
    {
      "cell_type": "markdown",
      "metadata": {},
      "source": [
        "<span id=\"dist_ii\"></span>\n",
        "# Distributive implicature/cumulative readings of \"every\" : innocent exclusion exhaustification\n",
        "*Every ambassador speaks Arabic, French or Mandarin*  \n",
        "*The three squirrels cracked every nut*\n",
        "\n",
        "Note how we perform the exhaustification, ignoring that \"every\" has \"some\" as an alternative. As pointed out by Chemla & Spector (2011), the \"some\" alternative block the distributive implicature, a testament to the inadequacy of the standard derivation.\n",
        "Because II exhaustification embeds IE exhaustification, the results are the same.\n",
        "\"\"\"\n",
        "\n",
        "prejacent  = Aamb > arabic | english | mandarin\n",
        "universe   = Universe(f = prejacent)\n",
        "sentence   = Exh(prejacent, scales = [], ii = True) # here too, we must ignore the \"some/all\" scales. As p\n",
        "\n",
        "print(\"Assumed LF:\", sentence)\n",
        "\n",
        "# Since exclusion happens first, the derived result is the same as above\n",
        "sentence.diagnose(display)\n",
        "print(\n",
        "\t\"There is an ambassador that only speaks English:\", \n",
        "\tuniverse.entails(sentence, Eamb > english & ~arabic & ~mandarin)\n",
        ")\n",
        "\n",
        "dist = (Eamb > english) & (Eamb > arabic) & (Eamb > mandarin)\n",
        "print(\n",
        "\t\"Equivalent to reported distributive implicature:\", \n",
        "\tuniverse.equivalent(\n",
        "\t\tsentence, \n",
        "\t\tprejacent & dist\n",
        "\t)\n",
        ")\n",
        "print()\n",
        "\n",
        "# %% \n",
        "\"\"\"\n",
        "What if we allowed the \"some\" alternative to \"all\"? The reading is equivalent to the following conjuntive statement:  \n",
        "*Every ambassador speaks Arabic, English and Mandarin.*\n"
      ]
    },
    {
      "cell_type": "code",
      "metadata": {},
      "source": [
        "sentence = Exh(prejacent, \n",
        "               scales = [{Existential, Universal}],\n",
        "               ii     = True)\n",
        "sentence.diagnose(display) \n",
        "# The reading is way too strong!\n",
        "print(\n",
        "\t\"All ambassador speak all languages:\", \n",
        "\tuniverse.equivalent(\n",
        "\t\tsentence, \n",
        "\t\tAamb > arabic & english & mandarin\n",
        "\t)\n",
        ")\n",
        "\n"
      ],
      "outputs": [],
      "execution_count": null
    },
    {
      "cell_type": "markdown",
      "metadata": {},
      "source": [
        "<span id=\"dist_ii_conj\"></span>\n",
        "What if we allowed both \"some/all\" and \"or/and\"?\n",
        "Here, we generated an embedded implicature that \"every ambassador speaks only one of the three languages\" and no distributive implicature.\n",
        "Note that pruning alternatives here (if we follow Bar-Lev (2018)) since pruning in his system only makes statements weaker.\n",
        "Since the fully exhuastified statement does not entail the dist. implicature, the pruned statement won't either.\n"
      ]
    },
    {
      "cell_type": "code",
      "metadata": {},
      "source": [
        "sentence = Exh(prejacent, \n",
        "               scales = [{Existential, Universal},  {Or, And}],\n",
        "               ii     = True)\n",
        "sentence.diagnose(display) \n",
        "# The reading has an embedded implicature\n",
        "print(\n",
        "\t\"Equivalent to an embedded implicature:\", \n",
        "\tuniverse.equivalent(\n",
        "\t\tsentence, \n",
        "\t\tAamb > (arabic & ~english & ~mandarin) | (~arabic & english & ~mandarin) | (~arabic & ~english & mandarin)\n",
        "\t)\n",
        ")\n",
        "\n",
        "print(\n",
        "\t\"Has distributive implicature:\", \n",
        "\tuniverse.equivalent(\n",
        "\t\tsentence, \n",
        "\t\tEamb > arabic\n",
        "\t)\n",
        ")\n",
        "\n",
        "\n"
      ],
      "outputs": [],
      "execution_count": null
    },
    {
      "cell_type": "markdown",
      "metadata": {},
      "source": [
        "<span id=\"dist_recursive\"></span>\n",
        "# Distributive implicatures with recursive exhaustification \n"
      ]
    },
    {
      "cell_type": "code",
      "metadata": {},
      "source": [
        "prejacent  = Aamb > arabic | english | mandarin\n",
        "universe = Universe(f = prejacent)\n",
        "sentence   = Exh(Exh(prejacent))\n",
        "\n",
        "print(\"Assumed LF:\", sentence)\n",
        "\n",
        "sentence.diagnose(display)\n",
        "\n",
        "dist = (Eamb > english) & (Eamb > arabic) & (Eamb > mandarin)\n",
        "print(\"Target Distributive Implicatures:\", dist)\n",
        "print(\n",
        "\t\"Equivalent to conjunction of prejacent and dist implicature:\", \n",
        "\tuniverse.equivalent(\n",
        "\t\tsentence, \n",
        "\t\tprejacent & dist\n",
        "\t)\n",
        ")\n"
      ],
      "outputs": [],
      "execution_count": null
    },
    {
      "cell_type": "markdown",
      "metadata": {},
      "source": [
        "<span id=\"cumulative_every\"></span>\n",
        "# Cumulative reading of every \n",
        "\n",
        "This is exactly the same as above with disjunction replaced with sub-domain existentials\n"
      ]
    },
    {
      "cell_type": "code",
      "metadata": {},
      "source": [
        "prejacent  = Anut > Esquirrel > cracked\n",
        "universe   = Universe(f = prejacent)\n",
        "sentence   = Exh(Exh(prejacent))\n",
        "\n",
        "print(\"Assumed LF:\", sentence)\n",
        "\n",
        "sentence.diagnose(display)\n",
        "cumulative_reading = (Anut > Esquirrel > cracked) & (Asquirrel > Enut > cracked)\n",
        "print(\"Cumulative reading:\", cumulative_reading)\n",
        "print(\n",
        "\t\"Equivalent to cumulative reading:\", \n",
        "\tuniverse.equivalent(\n",
        "\t\tsentence, \n",
        "\t\tcumulative_reading\n",
        "\t)\n",
        ")\n"
      ],
      "outputs": [],
      "execution_count": null
    },
    {
      "cell_type": "markdown",
      "metadata": {},
      "source": [
        "<span id=\"cumulative_every_ii\"></span>\n",
        "# Cumulative reading of every: the innocent inclusion approach \n"
      ]
    },
    {
      "cell_type": "code",
      "metadata": {},
      "source": [
        "prejacent  = Anut > Esquirrel > cracked\n",
        "sentence   = Exh(prejacent, ii = True)\n",
        "universe = Universe(f = prejacent)\n",
        "\n",
        "print(\"Assumed LF:\", sentence)\n",
        "\n",
        "sentence.diagnose(display)\n",
        "cumulative_reading = (Anut > Esquirrel > cracked) & (Asquirrel > Enut > cracked)\n",
        "print(\"Cumulative reading:\", cumulative_reading)\n",
        "print(\n",
        "\t\"Equivalent to cumulative reading:\", \n",
        "\tuniverse.equivalent(\n",
        "\t\tsentence, \n",
        "\t\tcumulative_reading\n",
        "\t)\n",
        ")\n",
        "doubly_distributive = Asquirrel > Anut > cracked\n",
        "print(\"Doubly distributive reading:\", doubly_distributive)\n",
        "print(\n",
        "\t\"Equivalent to doubly-distributive reading: \", \n",
        "\tuniverse.equivalent(sentence, doubly_distributive)\n",
        ")\n"
      ],
      "outputs": [],
      "execution_count": null
    },
    {
      "cell_type": "markdown",
      "metadata": {},
      "source": [
        "<span id=\"cumulative_most\"></span>\n",
        "# Cumulative reading of most \n"
      ]
    },
    {
      "cell_type": "code",
      "metadata": {},
      "source": [
        "prejacent  = M(\"nut\") > Esquirrel > cracked\n",
        "universe = Universe(f = prejacent)\n",
        "lf = Exh(Exh(prejacent))\n",
        "\n",
        "\n",
        "print(\"Assumed LF:\", lf)\n",
        "\n",
        "lf.diagnose(display)\n",
        "print(\"Equivalent to cumulative reading:\", universe.equivalent(lf, prejacent & (Asquirrel > Enut > cracked)))\n",
        "\n",
        "\n",
        "\n",
        "\n"
      ],
      "outputs": [],
      "execution_count": null
    },
    {
      "cell_type": "markdown",
      "metadata": {},
      "source": [
        "<span id=\"asymmetries\"></span>\n",
        "# Asymmetries in cumulative readings \n",
        "Non-cumulative reading of every.\n"
      ]
    },
    {
      "cell_type": "code",
      "metadata": {},
      "source": [
        "lf         = Exh(Exh(Anut > Exh(Exh(Esquirrel > cracked))))\n",
        "universe = Universe(f = lf)\n",
        "print(\"Assumed LF:\", lf)\n",
        "\n",
        "\n",
        "\n",
        "lf.diagnose(display)\n",
        "cumulative_reading = \n",
        "print(\"Equivalent to cumulative reading:\", universe.equivalent(lf, (Ax > a | b) & (Ex > a) & (Ex > b)))\n",
        "print(\"Equivalent to doubly-dist reading:\", universe.equivalent(lf, Ax > a & b))\n"
      ],
      "outputs": [],
      "execution_count": null
    },
    {
      "cell_type": "markdown",
      "metadata": {},
      "source": [
        "<span id=\"asymmetries\"></span>\n",
        "# Asymmetries in cumulative readings \n",
        "*Every nut appealed to the squirrels*\n",
        "\n",
        "With 4 Exh, the computations get a bit slow. It takes 3-5s on my computer.\n"
      ]
    },
    {
      "cell_type": "code",
      "metadata": {},
      "source": [
        "scales     = [{Existential, Universal}] # our \"disjunction\", which models the existential with subdomain alternates, should not have a conjunctive alternative\n",
        "lf         = Exh(Exh(Anut > Exh(Exh(Esquirrel > cracked))))\n",
        "universe = Universe(f = lf)\n",
        "\n",
        "\n",
        "print(\"Assumed LF:\", lf)\n",
        "lf.diagnose(display)\n",
        "\n",
        "cumulative_reading = (Anut > Esquirrel > cracked) & (Asquirrel > Enut > cracked)\n",
        "print(\"Equivalent to cumulative reading:\", universe.equivalent(lf, cumulative_reading))\n",
        "doubly_distributive = Asquirrel > Anut > cracked\n",
        "print(\"Equivalent to doubly-dist reading:\", universe.equivalent(lf, doubly_distributive))\n"
      ],
      "outputs": [],
      "execution_count": null
    },
    {
      "cell_type": "markdown",
      "metadata": {},
      "source": [
        "<span id=\"schein\"></span>\n",
        "*The video-games taught every quarterback two new plays.*\n",
        "\n",
        "Here, we will work on small domains to avoid blowing up the computer\n"
      ]
    },
    {
      "cell_type": "code",
      "metadata": {},
      "source": [
        "D2 = Domain(2)\n",
        "Evideo       = Ec_(\"vg\",  domain = D2)\n",
        "Avideo       = A(\"vg\",    domain = D2)\n",
        "Aquarterback = A(\"qb\",    domain = D2)\n",
        "Equarterback = E(\"qb\",    domain = D2)\n",
        "two_plays    = M(\"play\",  domain = D3) # using most which is equivalent to two on that domain\n",
        "Eplay        = E(\"play\",  domain = D3) # using most which is equivalent to two on that domain\n",
        "taught       = Pred(name = \"taught\", depends = [\"vg\", \"qb\", \"play\"], domains = [D2, D2, D3])\n",
        "\n",
        "prejacent = Aquarterback > two_plays > (Evideo > taught) # Little problem with C constructor requires parenthesis to parse\n",
        "print(prejacent)\n",
        "lf = Exh(Exh(prejacent))\n",
        "universe = Universe(f = lf)\n",
        "\n",
        "lf.diagnose(display)\n",
        "\n",
        "cumulative_reading = prejacent & (Avideo > Equarterback > (Eplay > taught))\n",
        "print(\"Equivalent to cumulative reading:\", universe.equivalent(lf, cumulative_reading))\n"
      ],
      "outputs": [],
      "execution_count": null
    },
    {
      "cell_type": "markdown",
      "metadata": {},
      "source": [
        "<span id=\"ordinary\"></span>\n",
        "# Ordinary cumulative sentences \n",
        "Ordinary cumulative sentences  \n",
        "*The squirrels cracked the nuts*\n",
        "\n",
        "**Caution:** This is by far the most computation-greedy cells of the notebook. Takes 30s to 1min to run on my (old) computer.\n"
      ]
    },
    {
      "cell_type": "code",
      "metadata": {},
      "source": [
        "# We need to redefine the quantifier \n",
        "Enut = Ec_(\"nut\", domain = D3)   \n",
        "Anut = A(\"nut\",   domain = D3)   \n",
        "Esquirrel = Ec_(\"squirrel\", domain = D3) \n",
        "Asquirrel = A(\"squirrel\",   domain = D3)   \n",
        "cracked = Pred(name = \"cracked\", depends = [\"squirrel\", \"nut\"], domains = (D3, D3))\n",
        "lf      = Exh(Exh(Exh(Exh(Enut > Esquirrel > cracked))))\n",
        "universe = Universe(f = lf)\n",
        "\n",
        "\n",
        "\n",
        "print(\"Assumed LF:\", lf)\n",
        "lf.diagnose(display)\n",
        "\n",
        "cumulative_reading = (Anut > Esquirrel > cracked) & (Asquirrel > Enut > cracked)\n",
        "print(\"Equivalent to cumulative reading:\", universe.equivalent(lf, cumulative_reading))\n",
        "doubly_distributive = Asquirrel > Anut > cracked\n",
        "print(\"Equivalent to doubly-dist reading:\", universe.equivalent(lf, doubly_distributive))\n"
      ],
      "outputs": [],
      "execution_count": null
    },
    {
      "cell_type": "markdown",
      "metadata": {},
      "source": [
        "Does it not work? Well, notice how none of the alterantives considered by *Exh* have any of the *Exh* stripped away.\n",
        "The package implements this behavior by default. If we allow the prejacent of Exh to be an alternative to Exh, the account of Free choice is lost!\n"
      ]
    },
    {
      "cell_type": "code",
      "metadata": {},
      "source": [
        "options_alts.prejacent_alternative_to_exh = True\n",
        "free_choice = Exh(Exh(a | b))\n",
        "universe = Universe(f = free_choice)\n",
        "options_alts.prejacent_alternative_to_exh = False\n",
        "\n",
        "free_choice.diagnose(display)\n",
        "print(\"No strengthening:\", universe.equivalent(free_choice, a | b))\n"
      ],
      "outputs": [],
      "execution_count": null
    },
    {
      "cell_type": "markdown",
      "metadata": {},
      "source": [
        "Is that an issue? Maybe we need to consider recursive *Exh* (i.e. *Exh Exh*) as a unit. As a unit, *Exh Exh* does not have *Exh* as an alternative, but it does have its prejacent as an alternative.\n"
      ]
    },
    {
      "cell_type": "code",
      "metadata": {},
      "source": [
        "Enut = Ec_(\"nut\", domain = D3)   \n",
        "Anut = A(\"nut\",   domain = D3)   \n",
        "Esquirrel = Ec_(\"squirrel\", domain = D3) \n",
        "Asquirrel = A(\"squirrel\",   domain = D3)   \n",
        "cracked = Pred(name = \"cracked\", depends = [\"squirrel\", \"nut\"], domains = (D3, D3))\n",
        "lf      = Exh(Exh(\n",
        "\tEnut > Exh(Exh(Esquirrel > cracked)),\n",
        "\textra_alts = Exh(Enut > Esquirrel > cracked).alts\n",
        "))\n",
        "universe = Universe(f = lf)\n",
        "\n",
        "\n",
        "\n",
        "print(\"Assumed LF:\", lf)\n",
        "lf.diagnose(display)\n",
        "\n",
        "cumulative_reading = (Anut > Esquirrel > cracked) & (Asquirrel > Enut > cracked)\n",
        "print(\"Equivalent to cumulative reading:\", universe.equivalent(lf, cumulative_reading))\n",
        "doubly_distributive = Asquirrel > Anut > cracked\n",
        "print(\"Equivalent to doubly-dist reading:\", universe.equivalent(lf, doubly_distributive))\n",
        "\n",
        "\n",
        "# print(\"Equivalent to doubly-dist reading:\", universe.equivalent(lf, Ax > a & b))\n",
        "\n",
        "\n",
        "# %%"
      ],
      "outputs": [],
      "execution_count": null
    }
  ],
  "metadata": {
    "anaconda-cloud": {},
    "kernelspec": {
      "display_name": "Python 3",
      "language": "python",
      "name": "python3"
    },
    "language_info": {
      "codemirror_mode": {
        "name": "ipython",
        "version": 3
      },
      "file_extension": ".py",
      "mimetype": "text/x-python",
      "name": "python",
      "nbconvert_exporter": "python",
      "pygments_lexer": "ipython3",
      "version": "3.6.1"
    }
  },
  "nbformat": 4,
  "nbformat_minor": 4
}